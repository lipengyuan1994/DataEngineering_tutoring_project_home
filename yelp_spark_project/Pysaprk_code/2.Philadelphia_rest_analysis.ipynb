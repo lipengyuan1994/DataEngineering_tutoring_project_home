{
 "cells": [
  {
   "cell_type": "code",
   "execution_count": 1,
   "id": "92e01e27",
   "metadata": {},
   "outputs": [
    {
     "data": {
      "text/plain": [
       "<pyspark.sql.session.SparkSession.Builder at 0x7f356a411af0>"
      ]
     },
     "execution_count": 1,
     "metadata": {},
     "output_type": "execute_result"
    }
   ],
   "source": [
    "from pyspark.sql import SparkSession\n",
    "spark = SparkSession.builder.appName(\"pj2-project\").getOrCreate()\n",
    "\n",
    "# https://sparkbyexamples.com/apache-hive/pyspark-save-dataframe-to-hive-table/\n",
    "SparkSession.builder.enableHiveSupport()"
   ]
  },
  {
   "cell_type": "code",
   "execution_count": 2,
   "id": "811c3975",
   "metadata": {},
   "outputs": [],
   "source": [
    "import pyspark.sql.functions  as F"
   ]
  },
  {
   "cell_type": "code",
   "execution_count": 7,
   "id": "54f522d7",
   "metadata": {
    "scrolled": true
   },
   "outputs": [
    {
     "name": "stdout",
     "output_type": "stream",
     "text": [
      "root\n",
      " |-- address: string (nullable = true)\n",
      " |-- attributes: struct (nullable = true)\n",
      " |    |-- AcceptsInsurance: string (nullable = true)\n",
      " |    |-- AgesAllowed: string (nullable = true)\n",
      " |    |-- Alcohol: string (nullable = true)\n",
      " |    |-- Ambience: string (nullable = true)\n",
      " |    |-- BYOB: string (nullable = true)\n",
      " |    |-- BYOBCorkage: string (nullable = true)\n",
      " |    |-- BestNights: string (nullable = true)\n",
      " |    |-- BikeParking: string (nullable = true)\n",
      " |    |-- BusinessAcceptsBitcoin: string (nullable = true)\n",
      " |    |-- BusinessAcceptsCreditCards: string (nullable = true)\n",
      " |    |-- BusinessParking: string (nullable = true)\n",
      " |    |-- ByAppointmentOnly: string (nullable = true)\n",
      " |    |-- Caters: string (nullable = true)\n",
      " |    |-- CoatCheck: string (nullable = true)\n",
      " |    |-- Corkage: string (nullable = true)\n",
      " |    |-- DietaryRestrictions: string (nullable = true)\n",
      " |    |-- DogsAllowed: string (nullable = true)\n",
      " |    |-- DriveThru: string (nullable = true)\n",
      " |    |-- GoodForDancing: string (nullable = true)\n",
      " |    |-- GoodForKids: string (nullable = true)\n",
      " |    |-- GoodForMeal: string (nullable = true)\n",
      " |    |-- HairSpecializesIn: string (nullable = true)\n",
      " |    |-- HappyHour: string (nullable = true)\n",
      " |    |-- HasTV: string (nullable = true)\n",
      " |    |-- Music: string (nullable = true)\n",
      " |    |-- NoiseLevel: string (nullable = true)\n",
      " |    |-- Open24Hours: string (nullable = true)\n",
      " |    |-- OutdoorSeating: string (nullable = true)\n",
      " |    |-- RestaurantsAttire: string (nullable = true)\n",
      " |    |-- RestaurantsCounterService: string (nullable = true)\n",
      " |    |-- RestaurantsDelivery: string (nullable = true)\n",
      " |    |-- RestaurantsGoodForGroups: string (nullable = true)\n",
      " |    |-- RestaurantsPriceRange2: string (nullable = true)\n",
      " |    |-- RestaurantsReservations: string (nullable = true)\n",
      " |    |-- RestaurantsTableService: string (nullable = true)\n",
      " |    |-- RestaurantsTakeOut: string (nullable = true)\n",
      " |    |-- Smoking: string (nullable = true)\n",
      " |    |-- WheelchairAccessible: string (nullable = true)\n",
      " |    |-- WiFi: string (nullable = true)\n",
      " |-- business_id: string (nullable = true)\n",
      " |-- categories: string (nullable = true)\n",
      " |-- city: string (nullable = true)\n",
      " |-- hours: struct (nullable = true)\n",
      " |    |-- Friday: string (nullable = true)\n",
      " |    |-- Monday: string (nullable = true)\n",
      " |    |-- Saturday: string (nullable = true)\n",
      " |    |-- Sunday: string (nullable = true)\n",
      " |    |-- Thursday: string (nullable = true)\n",
      " |    |-- Tuesday: string (nullable = true)\n",
      " |    |-- Wednesday: string (nullable = true)\n",
      " |-- is_open: long (nullable = true)\n",
      " |-- latitude: double (nullable = true)\n",
      " |-- longitude: double (nullable = true)\n",
      " |-- name: string (nullable = true)\n",
      " |-- postal_code: string (nullable = true)\n",
      " |-- review_count: long (nullable = true)\n",
      " |-- stars: double (nullable = true)\n",
      " |-- state: string (nullable = true)\n",
      "\n"
     ]
    }
   ],
   "source": [
    "df_business = spark.read.table(\"yelp.business\")\n",
    "df_business.printSchema()"
   ]
  },
  {
   "cell_type": "code",
   "execution_count": 9,
   "id": "77d4e360",
   "metadata": {},
   "outputs": [
    {
     "name": "stderr",
     "output_type": "stream",
     "text": [
      "                                                                                \r"
     ]
    }
   ],
   "source": [
    "# pdf_business = df_business.toPandas()"
   ]
  },
  {
   "cell_type": "code",
   "execution_count": 5,
   "id": "94fdfab0-5bb6-420e-aee4-323928a1075e",
   "metadata": {},
   "outputs": [
    {
     "name": "stderr",
     "output_type": "stream",
     "text": [
      "                                                                                \r"
     ]
    },
    {
     "name": "stdout",
     "output_type": "stream",
     "text": [
      "+-------+-----------------+--------------------+--------------------+-----------+-------------------+-----------------+------------------+--------------------+------------------+-----------------+------------------+------+\n",
      "|summary|          address|         business_id|          categories|       city|            is_open|         latitude|         longitude|                name|       postal_code|     review_count|             stars| state|\n",
      "+-------+-----------------+--------------------+--------------------+-----------+-------------------+-----------------+------------------+--------------------+------------------+-----------------+------------------+------+\n",
      "|  count|           117618|              117618|              117618|     117618|             117618|           117618|            117618|              117618|            117618|           117618|            117618|117618|\n",
      "|   mean|7369.333333333333|                null|                null|       null|   0.80749545137649|36.61230752280316|-89.27767905452407|              1252.4|45168.511811509285|52.95823768470812| 3.659320852250506|  null|\n",
      "| stddev|8738.777641447725|                null|                null|       null|0.39426877763284607|5.838799887914959|14.804658149735742|   811.1275005954502| 26259.90389318734|135.1266935135057|0.9321712024339991|  null|\n",
      "|    min|                 |---kPU91CF4Lq2-Wl...|3D Printing, Loca...|AB Edmonton|                  0|        27.555127|       -120.095137|        Grow Academy|                  |                5|               1.0|    AB|\n",
      "|    25%|            850.0|                null|                null|       null|                  1|       32.1729659|       -90.3498869|               360.0|           19355.0|                9|               3.0|  null|\n",
      "|    50%|           3070.0|                null|                null|       null|                  1|       38.7309883|    -86.1202438722|              1500.0|           37064.0|               18|               4.0|  null|\n",
      "|    75%|          11964.0|                null|                null|       null|                  1|         39.95349|       -75.4502903|              1899.0|           70002.0|               46|               4.5|  null|\n",
      "|    max|  ​185 E State St|zzyx5x0Z7xXWWvWnZ...|Zoos, Tours, Arts...|     ​Largo|                  1|       53.6518378|    -73.2004570502|​Silent Stay Medi...|           T9E 0V3|             7568|               5.0|    WA|\n",
      "+-------+-----------------+--------------------+--------------------+-----------+-------------------+-----------------+------------------+--------------------+------------------+-----------------+------------------+------+\n",
      "\n"
     ]
    }
   ],
   "source": [
    "df_business.summary().show()"
   ]
  },
  {
   "cell_type": "code",
   "execution_count": 13,
   "id": "5675ad13",
   "metadata": {
    "scrolled": true
   },
   "outputs": [
    {
     "name": "stderr",
     "output_type": "stream",
     "text": [
      "                                                                                \r"
     ]
    },
    {
     "data": {
      "text/html": [
       "<div>\n",
       "<style scoped>\n",
       "    .dataframe tbody tr th:only-of-type {\n",
       "        vertical-align: middle;\n",
       "    }\n",
       "\n",
       "    .dataframe tbody tr th {\n",
       "        vertical-align: top;\n",
       "    }\n",
       "\n",
       "    .dataframe thead th {\n",
       "        text-align: right;\n",
       "    }\n",
       "</style>\n",
       "<table border=\"1\" class=\"dataframe\">\n",
       "  <thead>\n",
       "    <tr style=\"text-align: right;\">\n",
       "      <th></th>\n",
       "      <th>summary</th>\n",
       "      <th>address</th>\n",
       "      <th>business_id</th>\n",
       "      <th>categories</th>\n",
       "      <th>city</th>\n",
       "      <th>is_open</th>\n",
       "      <th>latitude</th>\n",
       "      <th>longitude</th>\n",
       "      <th>name</th>\n",
       "      <th>postal_code</th>\n",
       "      <th>review_count</th>\n",
       "      <th>stars</th>\n",
       "      <th>state</th>\n",
       "    </tr>\n",
       "  </thead>\n",
       "  <tbody>\n",
       "    <tr>\n",
       "      <th>0</th>\n",
       "      <td>count</td>\n",
       "      <td>117618</td>\n",
       "      <td>117618</td>\n",
       "      <td>117618</td>\n",
       "      <td>117618</td>\n",
       "      <td>117618</td>\n",
       "      <td>117618</td>\n",
       "      <td>117618</td>\n",
       "      <td>117618</td>\n",
       "      <td>117618</td>\n",
       "      <td>117618</td>\n",
       "      <td>117618</td>\n",
       "      <td>117618</td>\n",
       "    </tr>\n",
       "    <tr>\n",
       "      <th>1</th>\n",
       "      <td>mean</td>\n",
       "      <td>7369.333333333333</td>\n",
       "      <td>None</td>\n",
       "      <td>None</td>\n",
       "      <td>None</td>\n",
       "      <td>0.80749545137649</td>\n",
       "      <td>36.61230752280316</td>\n",
       "      <td>-89.27767905452407</td>\n",
       "      <td>1252.4</td>\n",
       "      <td>45168.511811509285</td>\n",
       "      <td>52.95823768470812</td>\n",
       "      <td>3.659320852250506</td>\n",
       "      <td>None</td>\n",
       "    </tr>\n",
       "    <tr>\n",
       "      <th>2</th>\n",
       "      <td>stddev</td>\n",
       "      <td>8738.777641447725</td>\n",
       "      <td>None</td>\n",
       "      <td>None</td>\n",
       "      <td>None</td>\n",
       "      <td>0.39426877763284607</td>\n",
       "      <td>5.838799887914959</td>\n",
       "      <td>14.804658149735742</td>\n",
       "      <td>811.1275005954502</td>\n",
       "      <td>26259.90389318734</td>\n",
       "      <td>135.1266935135057</td>\n",
       "      <td>0.9321712024339991</td>\n",
       "      <td>None</td>\n",
       "    </tr>\n",
       "    <tr>\n",
       "      <th>3</th>\n",
       "      <td>min</td>\n",
       "      <td></td>\n",
       "      <td>---kPU91CF4Lq2-WlRu9Lw</td>\n",
       "      <td>3D Printing, Local Services, Hobby Shops, Shop...</td>\n",
       "      <td>AB Edmonton</td>\n",
       "      <td>0</td>\n",
       "      <td>27.555127</td>\n",
       "      <td>-120.095137</td>\n",
       "      <td>Grow Academy</td>\n",
       "      <td></td>\n",
       "      <td>5</td>\n",
       "      <td>1.0</td>\n",
       "      <td>AB</td>\n",
       "    </tr>\n",
       "    <tr>\n",
       "      <th>4</th>\n",
       "      <td>25%</td>\n",
       "      <td>850.0</td>\n",
       "      <td>None</td>\n",
       "      <td>None</td>\n",
       "      <td>None</td>\n",
       "      <td>1</td>\n",
       "      <td>32.1729659</td>\n",
       "      <td>-90.3498869</td>\n",
       "      <td>360.0</td>\n",
       "      <td>19355.0</td>\n",
       "      <td>9</td>\n",
       "      <td>3.0</td>\n",
       "      <td>None</td>\n",
       "    </tr>\n",
       "    <tr>\n",
       "      <th>5</th>\n",
       "      <td>50%</td>\n",
       "      <td>3070.0</td>\n",
       "      <td>None</td>\n",
       "      <td>None</td>\n",
       "      <td>None</td>\n",
       "      <td>1</td>\n",
       "      <td>38.7309883</td>\n",
       "      <td>-86.1202438722</td>\n",
       "      <td>1500.0</td>\n",
       "      <td>37064.0</td>\n",
       "      <td>18</td>\n",
       "      <td>4.0</td>\n",
       "      <td>None</td>\n",
       "    </tr>\n",
       "    <tr>\n",
       "      <th>6</th>\n",
       "      <td>75%</td>\n",
       "      <td>11964.0</td>\n",
       "      <td>None</td>\n",
       "      <td>None</td>\n",
       "      <td>None</td>\n",
       "      <td>1</td>\n",
       "      <td>39.95349</td>\n",
       "      <td>-75.4502903</td>\n",
       "      <td>1899.0</td>\n",
       "      <td>70002.0</td>\n",
       "      <td>46</td>\n",
       "      <td>4.5</td>\n",
       "      <td>None</td>\n",
       "    </tr>\n",
       "    <tr>\n",
       "      <th>7</th>\n",
       "      <td>max</td>\n",
       "      <td>​185 E State St</td>\n",
       "      <td>zzyx5x0Z7xXWWvWnZFuxlQ</td>\n",
       "      <td>Zoos, Tours, Arts &amp; Entertainment, Hotels &amp; Tr...</td>\n",
       "      <td>​Largo</td>\n",
       "      <td>1</td>\n",
       "      <td>53.6518378</td>\n",
       "      <td>-73.2004570502</td>\n",
       "      <td>​Silent Stay Meditation &amp; Retreat Center</td>\n",
       "      <td>T9E 0V3</td>\n",
       "      <td>7568</td>\n",
       "      <td>5.0</td>\n",
       "      <td>WA</td>\n",
       "    </tr>\n",
       "  </tbody>\n",
       "</table>\n",
       "</div>"
      ],
      "text/plain": [
       "  summary            address             business_id  \\\n",
       "0   count             117618                  117618   \n",
       "1    mean  7369.333333333333                    None   \n",
       "2  stddev  8738.777641447725                    None   \n",
       "3     min                     ---kPU91CF4Lq2-WlRu9Lw   \n",
       "4     25%              850.0                    None   \n",
       "5     50%             3070.0                    None   \n",
       "6     75%            11964.0                    None   \n",
       "7     max    ​185 E State St  zzyx5x0Z7xXWWvWnZFuxlQ   \n",
       "\n",
       "                                          categories         city  \\\n",
       "0                                             117618       117618   \n",
       "1                                               None         None   \n",
       "2                                               None         None   \n",
       "3  3D Printing, Local Services, Hobby Shops, Shop...  AB Edmonton   \n",
       "4                                               None         None   \n",
       "5                                               None         None   \n",
       "6                                               None         None   \n",
       "7  Zoos, Tours, Arts & Entertainment, Hotels & Tr...       ​Largo   \n",
       "\n",
       "               is_open           latitude           longitude  \\\n",
       "0               117618             117618              117618   \n",
       "1     0.80749545137649  36.61230752280316  -89.27767905452407   \n",
       "2  0.39426877763284607  5.838799887914959  14.804658149735742   \n",
       "3                    0          27.555127         -120.095137   \n",
       "4                    1         32.1729659         -90.3498869   \n",
       "5                    1         38.7309883      -86.1202438722   \n",
       "6                    1           39.95349         -75.4502903   \n",
       "7                    1         53.6518378      -73.2004570502   \n",
       "\n",
       "                                       name         postal_code  \\\n",
       "0                                    117618              117618   \n",
       "1                                    1252.4  45168.511811509285   \n",
       "2                         811.1275005954502   26259.90389318734   \n",
       "3                              Grow Academy                       \n",
       "4                                     360.0             19355.0   \n",
       "5                                    1500.0             37064.0   \n",
       "6                                    1899.0             70002.0   \n",
       "7  ​Silent Stay Meditation & Retreat Center             T9E 0V3   \n",
       "\n",
       "        review_count               stars   state  \n",
       "0             117618              117618  117618  \n",
       "1  52.95823768470812   3.659320852250506    None  \n",
       "2  135.1266935135057  0.9321712024339991    None  \n",
       "3                  5                 1.0      AB  \n",
       "4                  9                 3.0    None  \n",
       "5                 18                 4.0    None  \n",
       "6                 46                 4.5    None  \n",
       "7               7568                 5.0      WA  "
      ]
     },
     "execution_count": 13,
     "metadata": {},
     "output_type": "execute_result"
    }
   ],
   "source": [
    "df_business.summary().toPandas()"
   ]
  },
  {
   "cell_type": "code",
   "execution_count": 40,
   "id": "4f51baa6",
   "metadata": {
    "scrolled": true
   },
   "outputs": [
    {
     "name": "stdout",
     "output_type": "stream",
     "text": [
      "+----------------+-----+\n",
      "|            city|count|\n",
      "+----------------+-----+\n",
      "|    Philadelphia|11070|\n",
      "|          Tucson| 7268|\n",
      "|           Tampa| 7264|\n",
      "|    Indianapolis| 5878|\n",
      "|       Nashville| 5529|\n",
      "|     New Orleans| 4734|\n",
      "|            Reno| 4469|\n",
      "|        Edmonton| 3710|\n",
      "|     Saint Louis| 3687|\n",
      "|   Santa Barbara| 2913|\n",
      "|           Boise| 2338|\n",
      "|      Clearwater| 1756|\n",
      "|        Metairie| 1331|\n",
      "|Saint Petersburg| 1277|\n",
      "|          Sparks| 1272|\n",
      "|        Franklin| 1138|\n",
      "|      Wilmington| 1113|\n",
      "|       St. Louis| 1110|\n",
      "|  St. Petersburg|  942|\n",
      "|        Meridian|  849|\n",
      "+----------------+-----+\n",
      "only showing top 20 rows\n",
      "\n"
     ]
    }
   ],
   "source": [
    "df_business.groupBy('city').count().sort(F.col('count').desc()).show()"
   ]
  },
  {
   "cell_type": "code",
   "execution_count": 8,
   "id": "b8c60e7a",
   "metadata": {},
   "outputs": [],
   "source": [
    "philadelphiabusiness = df_business.filter('city == \"Philadelphia\"')"
   ]
  },
  {
   "cell_type": "code",
   "execution_count": 9,
   "id": "0002b3e1",
   "metadata": {},
   "outputs": [],
   "source": [
    "philrest = philadelphiabusiness.filter((F.col('categories').contains(\"Restaurants\")))"
   ]
  },
  {
   "cell_type": "code",
   "execution_count": 10,
   "id": "f96e6587",
   "metadata": {},
   "outputs": [
    {
     "name": "stdout",
     "output_type": "stream",
     "text": [
      "+--------------------+--------------------------------------------------------------------------------------------------------------------------------------------------------------------------------------------------------------------------------------------------------------------------------------------------------------------------------------------------------------------------------------------------------------------------------------------------------------------------------------------------------------------------------------------------------------------------------------------------------------------------------------------------------------------------------------------------------------------------------------------------------------------------------------------------------------------------------------------------------------------------+----------------------+--------------------------------------------------------------------------------------------------+------------+-----------------------------------------------------------------------------+-------+-------------+--------------+------------------------+-----------+------------+-----+-----+\n",
      "|address             |attributes                                                                                                                                                                                                                                                                                                                                                                                                                                                                                                                                                                                                                                                                                                                                                                                                                                                                |business_id           |categories                                                                                        |city        |hours                                                                        |is_open|latitude     |longitude     |name                    |postal_code|review_count|stars|state|\n",
      "+--------------------+--------------------------------------------------------------------------------------------------------------------------------------------------------------------------------------------------------------------------------------------------------------------------------------------------------------------------------------------------------------------------------------------------------------------------------------------------------------------------------------------------------------------------------------------------------------------------------------------------------------------------------------------------------------------------------------------------------------------------------------------------------------------------------------------------------------------------------------------------------------------------+----------------------+--------------------------------------------------------------------------------------------------+------------+-----------------------------------------------------------------------------+-------+-------------+--------------+------------------------+-----------+------------+-----+-----+\n",
      "|119 S 39th St       |{null, null, 'full_bar', {'touristy': False, 'hipster': False, 'romantic': False, 'divey': False, 'intimate': False, 'trendy': False, 'upscale': False, 'classy': True, 'casual': True}, null, null, {'monday': False, 'tuesday': False, 'friday': True, 'wednesday': True, 'thursday': True, 'sunday': False, 'saturday': False}, True, null, True, {'garage': False, 'street': True, 'validated': False, 'lot': False, 'valet': False}, null, False, null, null, null, null, null, null, False, {'dessert': False, 'latenight': True, 'lunch': False, 'dinner': True, 'brunch': False, 'breakfast': False}, null, True, True, {'dj': True, 'background_music': False, 'no_music': False, 'jukebox': False, 'live': False, 'video': False, 'karaoke': False}, u'loud', null, False, u'casual', null, True, True, 2, False, null, True, null, null, u'no'}                |BnffoBFNuGmNAksel7AX8g|Burgers, Caterers, Restaurants, Nightlife, American (Traditional), Bars, Event Planning & Services|Philadelphia|{11:0-23:30, 11:0-23:30, 12:0-16:0, null, 11:0-23:30, 11:0-23:30, 11:0-23:30}|1      |39.9544307   |-75.1999069   |Cavanaugh's Restaurant  |19104      |119         |3.0  |PA   |\n",
      "|3940 Baltimore Ave  |{null, null, u'full_bar', {'touristy': False, 'hipster': False, 'romantic': False, 'divey': False, 'intimate': False, 'trendy': False, 'upscale': False, 'classy': False, 'casual': False}, null, null, null, null, null, True, {'garage': False, 'street': False, 'validated': False, 'lot': False, 'valet': False}, null, null, null, null, null, null, null, null, null, {'dessert': False, 'latenight': False, 'lunch': False, 'dinner': False, 'brunch': False, 'breakfast': False}, null, True, True, null, null, null, True, u'casual', null, False, True, null, True, null, True, null, null, u'free'}                                                                                                                                                                                                                                                            |bbWRELNpKXXnFgQMkGVT_g|Restaurants, American (New)                                                                       |Philadelphia|{8:0-22:0, 8:0-21:0, 8:0-22:0, 8:0-21:0, 8:0-21:0, 8:0-21:0, 8:0-21:0}       |0      |39.9496602   |-75.2026672   |Trolley Car Station     |19104      |49          |3.0  |PA   |\n",
      "|400 Spring Garden St|{null, null, u'none', {'touristy': False, 'hipster': False, 'romantic': False, 'divey': None, 'intimate': False, 'trendy': False, 'upscale': False, 'classy': False, 'casual': True}, null, null, null, True, null, True, {u'valet': False, u'garage': False, u'street': True, u'lot': True, u'validated': False}, null, False, null, null, null, null, null, null, True, {'dessert': False, 'latenight': False, 'lunch': True, 'dinner': False, 'brunch': True, 'breakfast': True}, null, null, True, null, u'average', null, False, u'casual', null, True, True, 1, False, null, True, null, null, u'no'}                                                                                                                                                                                                                                                               |n3sRn8jx0zT5ew4tjjrRBw|Breakfast & Brunch, Restaurants                                                                   |Philadelphia|{8:0-17:0, 8:0-17:0, 8:0-17:0, null, 8:0-17:0, 8:0-17:0, 8:0-17:0}           |1      |39.9609007304|-75.145153154 |Spring Garden Restaurant|19123      |87          |4.0  |PA   |\n",
      "|3945 Chestnut St    |{null, null, u'none', null, False, null, null, null, null, True, null, null, True, null, null, null, null, null, null, null, null, null, null, False, null, null, null, False, null, null, None, null, null, null, False, None, null, null, null}                                                                                                                                                                                                                                                                                                                                                                                                                                                                                                                                                                                                                         |FfrMJk5L3weVgVGhpG4c2Q|Restaurants, Chicken Shop, Peruvian                                                               |Philadelphia|{12:0-22:0, 0:0-0:0, 12:0-22:0, 12:0-22:0, 12:0-22:0, null, 12:0-22:0}       |1      |39.9558813   |-75.2020031   |Rustika Pollo a La Brasa|19104      |6           |3.5  |PA   |\n",
      "|7613 Castor Ave     |{null, null, 'none', {'romantic': False, 'intimate': False, 'classy': False, 'hipster': False, 'divey': False, 'touristy': False, 'trendy': False, 'upscale': False, 'casual': False}, null, null, null, False, null, True, {'garage': False, 'street': False, 'validated': False, 'lot': False, 'valet': False}, null, False, null, null, null, null, True, null, True, null, null, null, True, null, 'average', null, False, 'casual', null, True, True, 1, False, null, True, null, null, u'free'}                                                                                                                                                                                                                                                                                                                                                                     |TC0SkzAqSdbmX0bYyvoJ8g|Fast Food, Restaurants, Food, Coffee & Tea, Burgers                                               |Philadelphia|{0:0-0:0, 5:30-0:0, 0:0-0:0, 5:30-0:0, 5:30-0:0, 5:30-0:0, 5:30-0:0}         |1      |40.056364    |-75.0605151   |McDonald's              |19152      |22          |1.5  |PA   |\n",
      "|6024 Ridge Ave      |{null, null, u'none', {'touristy': False, 'hipster': False, 'romantic': False, 'divey': False, 'intimate': False, 'trendy': None, 'upscale': False, 'classy': False, 'casual': True}, null, null, null, True, null, True, {'garage': False, 'street': True, 'validated': False, 'lot': None, 'valet': False}, null, True, null, null, null, False, null, null, True, {'dessert': True, 'latenight': None, 'lunch': True, 'dinner': True, 'brunch': None, 'breakfast': None}, null, null, True, null, u'average', null, False, u'casual', null, True, True, 2, False, False, True, null, True, null}                                                                                                                                                                                                                                                                       |dgm6jrUZj-vAWa1OU5rbNQ|Greek, Food, Mediterranean, Falafel, Restaurants, Salad, Caterers, Event Planning & Services      |Philadelphia|{11:0-21:0, 11:0-21:0, 11:0-21:0, 12:0-21:0, 11:0-21:0, 11:0-21:0, 11:0-21:0}|1      |40.0323421405|-75.2142540024|Yiro Yiro               |19128      |163         |4.5  |PA   |\n",
      "|1616 Chestnut St    |{null, null, null, {'touristy': False, 'hipster': False, 'romantic': False, 'divey': False, 'intimate': False, 'trendy': False, 'upscale': False, 'classy': True, 'casual': False}, null, null, null, null, null, True, {'garage': None, 'street': None, 'validated': False, 'lot': False, 'valet': False}, null, null, null, null, null, False, null, null, null, {'dessert': None, 'latenight': None, 'lunch': None, 'dinner': True, 'brunch': None, 'breakfast': None}, null, null, null, null, u'average', null, False, null, null, True, True, 2, False, False, True, null, null, null}                                                                                                                                                                                                                                                                              |yj0SWZvJ0tGwAywoVxPT5A|Restaurants, American (New)                                                                       |Philadelphia|{11:0-22:0, 0:0-0:0, 11:0-22:0, 11:0-22:0, 11:0-22:0, 11:0-22:0, 11:0-22:0}  |1      |39.951201755 |-75.1680316   |Dig                     |19103      |96          |4.5  |PA   |\n",
      "|153 W Porter St     |{null, null, null, null, null, null, null, null, null, null, {'garage': False, 'street': False, 'validated': False, 'lot': False, 'valet': False}, null, null, null, null, null, null, null, null, null, null, null, null, null, null, null, null, null, null, null, null, null, 1, None, null, null, null, null, null}                                                                                                                                                                                                                                                                                                                                                                                                                                                                                                                                                   |wXKiStXyJo0zI4uCwpNFMg|Food, Sandwiches, Grocery, Restaurants, Delis                                                     |Philadelphia|{6:0-19:0, 6:0-19:0, 6:0-19:0, 7:0-13:0, 6:0-19:0, 6:0-19:0, 6:0-19:0}       |1      |39.916983    |-75.1508328   |Tony's Market           |19148      |7           |4.5  |PA   |\n",
      "|1001 Race St        |{null, null, 'full_bar', {'touristy': False, 'hipster': False, 'romantic': False, 'divey': False, 'intimate': False, 'trendy': False, 'upscale': False, 'classy': True, 'casual': True}, null, 'yes_free', null, True, null, True, {'garage': False, 'street': True, 'validated': False, 'lot': True, 'valet': False}, null, False, null, False, null, False, null, null, True, {'dessert': False, 'latenight': True, 'lunch': None, 'dinner': None, 'brunch': False, 'breakfast': False}, null, null, False, null, u'loud', null, False, 'casual', null, False, True, 2, False, True, True, null, null, u'no'}                                                                                                                                                                                                                                                           |T9C1od-JorSPXwXgzSqM9Q|Seafood, Chicken Shop, Restaurants, Chinese                                                       |Philadelphia|{16:0-3:0, 16:0-3:0, 16:0-3:0, 16:0-3:0, 16:0-3:0, 16:0-3:0, 16:0-3:0}       |1      |39.95549425  |-75.1559746   |David's Mai Lai Wah     |19107      |522         |3.0  |PA   |\n",
      "|1322 Chestnut St    |{null, null, u'full_bar', {'touristy': False, 'hipster': False, 'romantic': False, 'divey': False, 'intimate': False, 'trendy': False, 'upscale': False, 'classy': True, 'casual': False}, null, null, {'monday': True, 'tuesday': False, 'friday': False, 'wednesday': False, 'thursday': False, 'sunday': False, 'saturday': False}, null, null, True, {u'valet': False, u'garage': None, u'street': True, u'lot': False, u'validated': False}, null, null, False, null, null, True, null, False, True, {'dessert': False, 'latenight': False, 'lunch': False, 'dinner': False, 'brunch': False, 'breakfast': False}, null, True, True, {u'dj': None, u'live': None, u'jukebox': False, u'video': False, u'background_music': False, u'karaoke': None, u'no_music': False}, u'average', null, True, u'casual', null, None, True, 2, True, True, True, u'no', True, null}|fFbRLJVbT8DnEbm9sjDuCQ|Barbeque, Nightlife, Beer Bar, Bars, Restaurants, Whiskey Bars                                    |Philadelphia|{16:0-23:0, 16:0-22:0, 11:0-23:0, 11:0-22:0, 16:0-22:0, 16:0-22:0, 16:0-22:0}|1      |39.9504938936|-75.1627459377|Tradesman's             |19107      |203         |3.0  |PA   |\n",
      "+--------------------+--------------------------------------------------------------------------------------------------------------------------------------------------------------------------------------------------------------------------------------------------------------------------------------------------------------------------------------------------------------------------------------------------------------------------------------------------------------------------------------------------------------------------------------------------------------------------------------------------------------------------------------------------------------------------------------------------------------------------------------------------------------------------------------------------------------------------------------------------------------------------+----------------------+--------------------------------------------------------------------------------------------------+------------+-----------------------------------------------------------------------------+-------+-------------+--------------+------------------------+-----------+------------+-----+-----+\n",
      "only showing top 10 rows\n",
      "\n"
     ]
    }
   ],
   "source": [
    "philrest.show(10,False)"
   ]
  },
  {
   "cell_type": "raw",
   "id": "d8084790-640b-4bfd-a293-0e861d95fd33",
   "metadata": {},
   "source": []
  },
  {
   "cell_type": "markdown",
   "id": "c428d9e9",
   "metadata": {},
   "source": [
    "## Keep relevant columns\n",
    "* only keep some useful columns\n",
    "    * business_id\n",
    "    * name\n",
    "    * categories\n",
    "    * stars"
   ]
  },
  {
   "cell_type": "code",
   "execution_count": 44,
   "id": "4e69a19a",
   "metadata": {},
   "outputs": [],
   "source": [
    "keepcol = ['business_id','name','categories','stars']\n",
    "philrest = philrest[keepcol]"
   ]
  },
  {
   "cell_type": "code",
   "execution_count": 46,
   "id": "7624d78f",
   "metadata": {},
   "outputs": [
    {
     "name": "stdout",
     "output_type": "stream",
     "text": [
      "+--------------------+--------------------+--------------------+-----+\n",
      "|         business_id|                name|          categories|stars|\n",
      "+--------------------+--------------------+--------------------+-----+\n",
      "|BnffoBFNuGmNAksel...|Cavanaugh's Resta...|Burgers, Caterers...|  3.0|\n",
      "|bbWRELNpKXXnFgQMk...| Trolley Car Station|Restaurants, Amer...|  3.0|\n",
      "|n3sRn8jx0zT5ew4tj...|Spring Garden Res...|Breakfast & Brunc...|  4.0|\n",
      "|FfrMJk5L3weVgVGhp...|Rustika Pollo a L...|Restaurants, Chic...|  3.5|\n",
      "|TC0SkzAqSdbmX0bYy...|          McDonald's|Fast Food, Restau...|  1.5|\n",
      "|dgm6jrUZj-vAWa1OU...|           Yiro Yiro|Greek, Food, Medi...|  4.5|\n",
      "|yj0SWZvJ0tGwAywoV...|                 Dig|Restaurants, Amer...|  4.5|\n",
      "|wXKiStXyJo0zI4uCw...|       Tony's Market|Food, Sandwiches,...|  4.5|\n",
      "|T9C1od-JorSPXwXgz...| David's Mai Lai Wah|Seafood, Chicken ...|  3.0|\n",
      "|fFbRLJVbT8DnEbm9s...|         Tradesman's|Barbeque, Nightli...|  3.0|\n",
      "|iCVrRHR_Yxr6mHCpO...|           AmeriThai|   Thai, Restaurants|  4.0|\n",
      "|G1PbNo1yYxAu7G6b6...|           Taco Loco|Ethnic Food, Rest...|  4.5|\n",
      "|7kLE0V9Pid6dx1vD4...|     Maoz Vegetarian|Sandwiches, Middl...|  4.0|\n",
      "|1w40T5J6br425rMvp...|  La Cocina del Cafe|Coffee & Tea, Foo...|  5.0|\n",
      "|tQKqrLs16Xi-lFrd3...|JL Sullivan's Spe...|Restaurants, Nigh...|  2.5|\n",
      "|BgQOm2TuoF1UmD4e7...|         Jerry's Bar|American (New), B...|  3.5|\n",
      "|z3eM7Wb7EsCuJbNz5...|          Bossam Bar|Korean, Japanese,...|  3.5|\n",
      "|JxRSBtTNuLULDfKI3...|         Asia Bakery|Bakeries, Food, R...|  4.0|\n",
      "|TUtOrI_GnVwSuHHTT...|         Chhaya Cafe|Coffee & Tea, San...|  4.0|\n",
      "|0ievJ8EHvr1YjXA1_...|       Shifty's Taco|Restaurants, Tex-Mex|  4.0|\n",
      "+--------------------+--------------------+--------------------+-----+\n",
      "only showing top 20 rows\n",
      "\n"
     ]
    }
   ],
   "source": [
    "philrest.show()"
   ]
  },
  {
   "cell_type": "markdown",
   "id": "30101b2f",
   "metadata": {},
   "source": [
    "## Join review data\n",
    "We want to make a DataFrame that contain and only contain the reviews about the business entities we just obtained.\n",
    "\n",
    "* Prepare dataframes to be joined --- on business_id"
   ]
  },
  {
   "cell_type": "code",
   "execution_count": 47,
   "id": "3a1c94ce",
   "metadata": {},
   "outputs": [],
   "source": [
    "df_review = spark.read.table(\"yelp.review\")"
   ]
  },
  {
   "cell_type": "code",
   "execution_count": 48,
   "id": "51d17e85",
   "metadata": {},
   "outputs": [],
   "source": [
    "df_philrestfinal = philrest.join(df_review, ['business_id'],'inner')"
   ]
  },
  {
   "cell_type": "code",
   "execution_count": 51,
   "id": "35e0f8c7",
   "metadata": {},
   "outputs": [
    {
     "name": "stderr",
     "output_type": "stream",
     "text": [
      "                                                                                \r"
     ]
    },
    {
     "data": {
      "text/html": [
       "<div>\n",
       "<style scoped>\n",
       "    .dataframe tbody tr th:only-of-type {\n",
       "        vertical-align: middle;\n",
       "    }\n",
       "\n",
       "    .dataframe tbody tr th {\n",
       "        vertical-align: top;\n",
       "    }\n",
       "\n",
       "    .dataframe thead th {\n",
       "        text-align: right;\n",
       "    }\n",
       "</style>\n",
       "<table border=\"1\" class=\"dataframe\">\n",
       "  <thead>\n",
       "    <tr style=\"text-align: right;\">\n",
       "      <th></th>\n",
       "      <th>summary</th>\n",
       "      <th>business_id</th>\n",
       "      <th>name</th>\n",
       "      <th>categories</th>\n",
       "      <th>stars</th>\n",
       "      <th>cool</th>\n",
       "      <th>date</th>\n",
       "      <th>funny</th>\n",
       "      <th>review_id</th>\n",
       "      <th>stars</th>\n",
       "      <th>text</th>\n",
       "      <th>useful</th>\n",
       "      <th>user_id</th>\n",
       "    </tr>\n",
       "  </thead>\n",
       "  <tbody>\n",
       "    <tr>\n",
       "      <th>0</th>\n",
       "      <td>count</td>\n",
       "      <td>662473</td>\n",
       "      <td>662473</td>\n",
       "      <td>662473</td>\n",
       "      <td>662473</td>\n",
       "      <td>662473</td>\n",
       "      <td>662473</td>\n",
       "      <td>662473</td>\n",
       "      <td>662473</td>\n",
       "      <td>662473</td>\n",
       "      <td>662473</td>\n",
       "      <td>662473</td>\n",
       "      <td>662473</td>\n",
       "    </tr>\n",
       "    <tr>\n",
       "      <th>1</th>\n",
       "      <td>mean</td>\n",
       "      <td>None</td>\n",
       "      <td>559.7400881057268</td>\n",
       "      <td>None</td>\n",
       "      <td>3.818016734266906</td>\n",
       "      <td>0.5485431104361989</td>\n",
       "      <td>None</td>\n",
       "      <td>0.3667364556744199</td>\n",
       "      <td>None</td>\n",
       "      <td>3.826383867719892</td>\n",
       "      <td>None</td>\n",
       "      <td>1.096148824178495</td>\n",
       "      <td>None</td>\n",
       "    </tr>\n",
       "    <tr>\n",
       "      <th>2</th>\n",
       "      <td>stddev</td>\n",
       "      <td>None</td>\n",
       "      <td>574.6348192632663</td>\n",
       "      <td>None</td>\n",
       "      <td>0.5628930006239539</td>\n",
       "      <td>1.8567562332183867</td>\n",
       "      <td>None</td>\n",
       "      <td>1.4265071503997055</td>\n",
       "      <td>None</td>\n",
       "      <td>1.3000416190490802</td>\n",
       "      <td>None</td>\n",
       "      <td>2.538471425933532</td>\n",
       "      <td>None</td>\n",
       "    </tr>\n",
       "    <tr>\n",
       "      <th>3</th>\n",
       "      <td>min</td>\n",
       "      <td>-0M0b-XhtFagyLmsBtOe8w</td>\n",
       "      <td>&amp;pizza - UPenn</td>\n",
       "      <td>Active Life, Beer Gardens, Grocery, Middle Eas...</td>\n",
       "      <td>1.0</td>\n",
       "      <td>0</td>\n",
       "      <td>2005-02-16 04:06:26</td>\n",
       "      <td>0</td>\n",
       "      <td>---aZVSWnQtOP_12QzIt8g</td>\n",
       "      <td>1.0</td>\n",
       "      <td>! Came by with friends after they ran the Broa...</td>\n",
       "      <td>0</td>\n",
       "      <td>---r61b7EpVPkb4UVme5tA</td>\n",
       "    </tr>\n",
       "    <tr>\n",
       "      <th>4</th>\n",
       "      <td>25%</td>\n",
       "      <td>None</td>\n",
       "      <td>24.0</td>\n",
       "      <td>None</td>\n",
       "      <td>3.5</td>\n",
       "      <td>0</td>\n",
       "      <td>None</td>\n",
       "      <td>0</td>\n",
       "      <td>None</td>\n",
       "      <td>3.0</td>\n",
       "      <td>None</td>\n",
       "      <td>0</td>\n",
       "      <td>None</td>\n",
       "    </tr>\n",
       "    <tr>\n",
       "      <th>5</th>\n",
       "      <td>50%</td>\n",
       "      <td>None</td>\n",
       "      <td>24.0</td>\n",
       "      <td>None</td>\n",
       "      <td>4.0</td>\n",
       "      <td>0</td>\n",
       "      <td>None</td>\n",
       "      <td>0</td>\n",
       "      <td>None</td>\n",
       "      <td>4.0</td>\n",
       "      <td>None</td>\n",
       "      <td>0</td>\n",
       "      <td>None</td>\n",
       "    </tr>\n",
       "    <tr>\n",
       "      <th>6</th>\n",
       "      <td>75%</td>\n",
       "      <td>None</td>\n",
       "      <td>943.0</td>\n",
       "      <td>None</td>\n",
       "      <td>4.0</td>\n",
       "      <td>1</td>\n",
       "      <td>None</td>\n",
       "      <td>0</td>\n",
       "      <td>None</td>\n",
       "      <td>5.0</td>\n",
       "      <td>None</td>\n",
       "      <td>1</td>\n",
       "      <td>None</td>\n",
       "    </tr>\n",
       "    <tr>\n",
       "      <th>7</th>\n",
       "      <td>max</td>\n",
       "      <td>zzyx5x0Z7xXWWvWnZFuxlQ</td>\n",
       "      <td>¡Juice!</td>\n",
       "      <td>Wraps, Sandwiches, Restaurants, Delis, Breakfa...</td>\n",
       "      <td>5.0</td>\n",
       "      <td>163</td>\n",
       "      <td>2022-01-19 19:46:34</td>\n",
       "      <td>227</td>\n",
       "      <td>zzzsujjXnH7MNLW2XYVf1A</td>\n",
       "      <td>5.0</td>\n",
       "      <td>＼(^o^)／\\nThey have a different taste than most...</td>\n",
       "      <td>224</td>\n",
       "      <td>zzzMBVS73g3ZJ7qL8JyhiA</td>\n",
       "    </tr>\n",
       "  </tbody>\n",
       "</table>\n",
       "</div>"
      ],
      "text/plain": [
       "  summary             business_id               name  \\\n",
       "0   count                  662473             662473   \n",
       "1    mean                    None  559.7400881057268   \n",
       "2  stddev                    None  574.6348192632663   \n",
       "3     min  -0M0b-XhtFagyLmsBtOe8w     &pizza - UPenn   \n",
       "4     25%                    None               24.0   \n",
       "5     50%                    None               24.0   \n",
       "6     75%                    None              943.0   \n",
       "7     max  zzyx5x0Z7xXWWvWnZFuxlQ            ¡Juice!   \n",
       "\n",
       "                                          categories               stars  \\\n",
       "0                                             662473              662473   \n",
       "1                                               None   3.818016734266906   \n",
       "2                                               None  0.5628930006239539   \n",
       "3  Active Life, Beer Gardens, Grocery, Middle Eas...                 1.0   \n",
       "4                                               None                 3.5   \n",
       "5                                               None                 4.0   \n",
       "6                                               None                 4.0   \n",
       "7  Wraps, Sandwiches, Restaurants, Delis, Breakfa...                 5.0   \n",
       "\n",
       "                 cool                 date               funny  \\\n",
       "0              662473               662473              662473   \n",
       "1  0.5485431104361989                 None  0.3667364556744199   \n",
       "2  1.8567562332183867                 None  1.4265071503997055   \n",
       "3                   0  2005-02-16 04:06:26                   0   \n",
       "4                   0                 None                   0   \n",
       "5                   0                 None                   0   \n",
       "6                   1                 None                   0   \n",
       "7                 163  2022-01-19 19:46:34                 227   \n",
       "\n",
       "                review_id               stars  \\\n",
       "0                  662473              662473   \n",
       "1                    None   3.826383867719892   \n",
       "2                    None  1.3000416190490802   \n",
       "3  ---aZVSWnQtOP_12QzIt8g                 1.0   \n",
       "4                    None                 3.0   \n",
       "5                    None                 4.0   \n",
       "6                    None                 5.0   \n",
       "7  zzzsujjXnH7MNLW2XYVf1A                 5.0   \n",
       "\n",
       "                                                text             useful  \\\n",
       "0                                             662473             662473   \n",
       "1                                               None  1.096148824178495   \n",
       "2                                               None  2.538471425933532   \n",
       "3  ! Came by with friends after they ran the Broa...                  0   \n",
       "4                                               None                  0   \n",
       "5                                               None                  0   \n",
       "6                                               None                  1   \n",
       "7  ＼(^o^)／\\nThey have a different taste than most...                224   \n",
       "\n",
       "                  user_id  \n",
       "0                  662473  \n",
       "1                    None  \n",
       "2                    None  \n",
       "3  ---r61b7EpVPkb4UVme5tA  \n",
       "4                    None  \n",
       "5                    None  \n",
       "6                    None  \n",
       "7  zzzMBVS73g3ZJ7qL8JyhiA  "
      ]
     },
     "execution_count": 51,
     "metadata": {},
     "output_type": "execute_result"
    }
   ],
   "source": [
    "df_philrestfinal.summary().toPandas()"
   ]
  },
  {
   "cell_type": "code",
   "execution_count": 52,
   "id": "45c8a002",
   "metadata": {
    "tags": []
   },
   "outputs": [
    {
     "name": "stdout",
     "output_type": "stream",
     "text": [
      "+-------------------+\n",
      "|           datetime|\n",
      "+-------------------+\n",
      "|2013-01-24 14:36:59|\n",
      "|2014-01-03 01:54:16|\n",
      "|2021-05-15 01:07:10|\n",
      "|2020-02-18 05:54:00|\n",
      "|2020-10-25 11:54:03|\n",
      "|2021-05-21 01:05:45|\n",
      "|2021-09-06 05:16:08|\n",
      "|2021-06-13 23:18:56|\n",
      "|2019-04-20 19:19:53|\n",
      "|2020-10-09 14:55:30|\n",
      "|2021-01-31 20:25:02|\n",
      "|2021-07-02 02:41:01|\n",
      "|2019-04-16 13:40:10|\n",
      "|2021-07-13 18:10:27|\n",
      "|2016-03-28 20:45:52|\n",
      "|2021-10-20 23:08:38|\n",
      "|2021-08-02 17:38:07|\n",
      "|2021-03-01 14:50:46|\n",
      "|2021-04-23 17:21:10|\n",
      "|2021-01-12 00:02:52|\n",
      "+-------------------+\n",
      "only showing top 20 rows\n",
      "\n"
     ]
    }
   ],
   "source": [
    "df_philrestfinal.select('datetime').show()"
   ]
  },
  {
   "cell_type": "code",
   "execution_count": 62,
   "id": "917ecec8",
   "metadata": {},
   "outputs": [],
   "source": [
    "# cast date to datetime\n",
    "df_philrestfinal = df_philrestfinal.withColumn(\"datetime\",F.to_timestamp(F.col('date'),'yyyy-MM-dd HH:mm:ss'))\n",
    "df_philrestfinal = df_philrestfinal.filter(F.col('datetime') > \"2020-01-01\")"
   ]
  },
  {
   "cell_type": "code",
   "execution_count": 66,
   "id": "6e49d82c",
   "metadata": {},
   "outputs": [
    {
     "name": "stdout",
     "output_type": "stream",
     "text": [
      "+--------------------+--------------------+--------------------+-----+----+-------------------+-----+--------------------+-----+--------------------+------+--------------------+-------------------+\n",
      "|         business_id|                name|          categories|stars|cool|               date|funny|           review_id|stars|                text|useful|             user_id|           datetime|\n",
      "+--------------------+--------------------+--------------------+-----+----+-------------------+-----+--------------------+-----+--------------------+------+--------------------+-------------------+\n",
      "|p-MSh95si_sDdih94...|           Forsythia|Restaurants, Fren...|  4.5|   0|2021-05-15 01:07:10|    0|WK4syNkN0puOr6Yju...|  5.0|Beautiful place t...|     0|oN2GmKS7jRjunWGNk...|2021-05-15 01:07:10|\n",
      "|pDUcsN79bDwhOMBaD...|Cafe Pho Ga Thanh...|Food, Asian Fusio...|  4.0|   0|2020-02-18 05:54:00|    0|6kwktNYRib2oWHNHa...|  3.0|The place is supe...|     0|u5ueF05YmDkxQ-Yb9...|2020-02-18 05:54:00|\n",
      "+--------------------+--------------------+--------------------+-----+----+-------------------+-----+--------------------+-----+--------------------+------+--------------------+-------------------+\n",
      "only showing top 2 rows\n",
      "\n"
     ]
    }
   ],
   "source": [
    "df_philrestfinal.show(2,True)"
   ]
  },
  {
   "cell_type": "code",
   "execution_count": 64,
   "id": "f70a63c5",
   "metadata": {},
   "outputs": [],
   "source": [
    "import matplotlib.pyplot as plt"
   ]
  },
  {
   "cell_type": "code",
   "execution_count": 70,
   "id": "a735fcde",
   "metadata": {},
   "outputs": [
    {
     "name": "stderr",
     "output_type": "stream",
     "text": [
      "                                                                                \r"
     ]
    }
   ],
   "source": [
    "pdf_philrestfinal = df_philrestfinal.toPandas()"
   ]
  },
  {
   "cell_type": "code",
   "execution_count": 72,
   "id": "ad73e0c9",
   "metadata": {},
   "outputs": [
    {
     "data": {
      "text/plain": [
       "<AxesSubplot:title={'center':'Philadelphia Top 10 Business Entities with most comments from 2020.01.01 till now'}, xlabel='name'>"
      ]
     },
     "execution_count": 72,
     "metadata": {},
     "output_type": "execute_result"
    },
    {
     "data": {
      "image/png": "[encoded data removed]",
      "text/plain": [
       "<Figure size 640x480 with 1 Axes>"
      ]
     },
     "metadata": {},
     "output_type": "display_data"
    }
   ],
   "source": [
    "# e.g. calculate counts of reviews per business entity, and plot it\n",
    "# group by business entity name, count and sort\n",
    "review_counts_by_business_entity_phil = pdf_philrestfinal.groupby('name').size().sort_values()\n",
    "\n",
    "# filter the top 10 business with the most reviews\n",
    "review_counts_by_business_entity_top_10_names_phil = review_counts_by_business_entity_phil[-10:].index\n",
    "\n",
    "# we try to plot the review received by the top 10 business entities from 2020.01.01 till now\n",
    "review_counts_top_10_phil = pdf_philrestfinal[pdf_philrestfinal['name'].isin(review_counts_by_business_entity_top_10_names_phil)]\n",
    "review_counts_top_10_phil = review_counts_top_10_phil.groupby('name').size().sort_values()\n",
    "review_counts_top_10_phil.plot.bar(title='Philadelphia Top 10 Business Entities with most comments from 2020.01.01 till now')"
   ]
  },
  {
   "cell_type": "code",
   "execution_count": null,
   "id": "baf96b63",
   "metadata": {},
   "outputs": [],
   "source": [
    "spark ML "
   ]
  }
 ],
 "metadata": {
  "kernelspec": {
   "display_name": "PySpark",
   "language": "python",
   "name": "pyspark"
  },
  "language_info": {
   "codemirror_mode": {
    "name": "ipython",
    "version": 3
   },
   "file_extension": ".py",
   "mimetype": "text/x-python",
   "name": "python",
   "nbconvert_exporter": "python",
   "pygments_lexer": "ipython3",
   "version": "3.8.15"
  }
 },
 "nbformat": 4,
 "nbformat_minor": 5
}
