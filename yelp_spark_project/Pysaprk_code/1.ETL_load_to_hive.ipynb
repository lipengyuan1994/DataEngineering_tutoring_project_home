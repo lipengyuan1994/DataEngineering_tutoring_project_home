{
 "cells": [
  {
   "cell_type": "code",
   "execution_count": 5,
   "id": "79c40446",
   "metadata": {},
   "outputs": [
    {
     "data": {
      "text/plain": [
       "<pyspark.sql.session.SparkSession.Builder at 0x7f7f3e43fa60>"
      ]
     },
     "execution_count": 5,
     "metadata": {},
     "output_type": "execute_result"
    }
   ],
   "source": [
    "from pyspark.sql import SparkSession\n",
    "spark = SparkSession.builder.appName(\"pj2-project\").getOrCreate()\n",
    "\n",
    "# https://sparkbyexamples.com/apache-hive/pyspark-save-dataframe-to-hive-table/\n",
    "SparkSession.builder.enableHiveSupport()"
   ]
  },
  {
   "cell_type": "code",
   "execution_count": null,
   "id": "fc75b757",
   "metadata": {},
   "outputs": [],
   "source": []
  },
  {
   "cell_type": "code",
   "execution_count": 6,
   "id": "05441e18",
   "metadata": {},
   "outputs": [],
   "source": [
    "import pyspark.sql.functions  as F"
   ]
  },
  {
   "cell_type": "code",
   "execution_count": 3,
   "id": "7f676023",
   "metadata": {},
   "outputs": [],
   "source": [
    "def clean_null(df):\n",
    "    \n",
    "    df_cleaned = df\n",
    "    for col in df.columns:\n",
    "        df_cleaned = df_cleaned.filter(F.col(col).isNotNull())\n",
    "        df_cleaned = df_cleaned.filter(F.col(col) != 'None')\n",
    "        df_cleaned = df_cleaned.filter(F.col(col) != 'null')\n",
    "    return df_cleaned"
   ]
  },
  {
   "cell_type": "markdown",
   "id": "50e4d839",
   "metadata": {},
   "source": [
    "# first process the business dataset"
   ]
  },
  {
   "cell_type": "code",
   "execution_count": 3,
   "id": "4dc0acf3",
   "metadata": {},
   "outputs": [
    {
     "name": "stderr",
     "output_type": "stream",
     "text": [
      "23/03/12 19:09:31 WARN org.apache.spark.sql.catalyst.util.package: Truncated the string representation of a plan since it was too large. This behavior can be adjusted by setting 'spark.sql.debug.maxToStringFields'.\n"
     ]
    }
   ],
   "source": [
    "tbl_business = spark.read.option(\"header\",True).json(\"/user/pytrick/yelp_data/yelp_academic_dataset_business.json\")"
   ]
  },
  {
   "cell_type": "code",
   "execution_count": 9,
   "id": "c92f5866",
   "metadata": {},
   "outputs": [
    {
     "name": "stderr",
     "output_type": "stream",
     "text": [
      "[Stage 1:==============>                                            (1 + 3) / 4]\r"
     ]
    },
    {
     "name": "stdout",
     "output_type": "stream",
     "text": [
      "+-------+----------+-----------+----------+----+-----+-------+--------+---------+----+-----------+------------+-----+-----+\n",
      "|address|attributes|business_id|categories|city|hours|is_open|latitude|longitude|name|postal_code|review_count|stars|state|\n",
      "+-------+----------+-----------+----------+----+-----+-------+--------+---------+----+-----------+------------+-----+-----+\n",
      "|      0|     13744|          0|       103|   0|23223|      0|       0|        0|   0|          0|           0|    0|    0|\n",
      "+-------+----------+-----------+----------+----+-----+-------+--------+---------+----+-----------+------------+-----+-----+\n",
      "\n"
     ]
    },
    {
     "name": "stderr",
     "output_type": "stream",
     "text": [
      "                                                                                \r"
     ]
    }
   ],
   "source": [
    "\n",
    "# tbl_business.count() - tbl_business.dropDuplicates().count()"
   ]
  },
  {
   "cell_type": "code",
   "execution_count": 13,
   "id": "88397e0e",
   "metadata": {},
   "outputs": [
    {
     "name": "stdout",
     "output_type": "stream",
     "text": [
      "+--------------------+--------------------+--------------------+--------------------+--------------+--------------------+-------+----------+------------+--------------------+-----------+------------+-----+-----+\n",
      "|             address|          attributes|         business_id|          categories|          city|               hours|is_open|  latitude|   longitude|                name|postal_code|review_count|stars|state|\n",
      "+--------------------+--------------------+--------------------+--------------------+--------------+--------------------+-------+----------+------------+--------------------+-----------+------------+-----+-----+\n",
      "|1616 Chapala St, ...|{null, null, null...|Pns2l4eNsfO8kk83d...|Doctors, Traditio...| Santa Barbara|                null|      0|34.4266787|-119.7111968|Abby Rappoport, L...|      93101|           7|  5.0|   CA|\n",
      "|87 Grasso Plaza S...|{null, null, null...|mpf3x-BjTdTEA3yCZ...|Shipping Centers,...|        Affton|{8:0-18:30, 0:0-0...|      1| 38.551126|  -90.335695|       The UPS Store|      63123|          15|  3.0|   MO|\n",
      "|5255 E Broadway Blvd|{null, null, null...|tUFrWirKiKi_TAnsV...|Department Stores...|        Tucson|{8:0-23:0, 8:0-22...|      0| 32.223236| -110.880452|              Target|      85711|          22|  3.5|   AZ|\n",
      "|         935 Race St|{null, null, u'no...|MTSW4McQd7CbVtyjq...|Restaurants, Food...|  Philadelphia|{7:0-21:0, 7:0-20...|      1|39.9555052| -75.1555641|  St Honore Pastries|      19107|          80|  4.0|   PA|\n",
      "|       101 Walnut St|{null, null, null...|mWMc6_wTdE0EUBKIG...|Brewpubs, Breweri...|    Green Lane|{12:0-22:0, null,...|      1|40.3381827| -75.4716585|Perkiomen Valley ...|      18054|          13|  4.5|   PA|\n",
      "|       615 S Main St|{null, null, u'no...|CF33F8-E6oudUQ46H...|Burgers, Fast Foo...|  Ashland City|{9:0-0:0, 0:0-0:0...|      1| 36.269593|  -87.058943|      Sonic Drive-In|      37015|           6|  2.0|   TN|\n",
      "|8522 Eager Road, ...|{null, null, null...|n_0UpQx1hsNbnPUSl...|Sporting Goods, F...|     Brentwood|{10:0-18:0, 0:0-0...|      1| 38.627695|  -90.340465|     Famous Footwear|      63144|          13|  2.5|   MO|\n",
      "|  400 Pasadena Ave S|                null|qkRM_2X51Yqxk3btl...|Synagogues, Relig...|St. Petersburg|{9:0-17:0, 9:0-17...|      1|  27.76659|  -82.732983|      Temple Beth-El|      33707|           5|  3.5|   FL|\n",
      "|   8025 Mackenzie Rd|{null, null, u'fu...|k0hlBqXX-Bt0vf1op...|Pubs, Restaurants...|        Affton|                null|      0|38.5651648| -90.3210868|Tsevi's Pub And G...|      63123|          19|  3.0|   MO|\n",
      "| 2312 Dickerson Pike|{null, null, u'no...|bBDDEgkFA1Otx9Lfe...|Ice Cream & Froze...|     Nashville|{6:0-16:0, 0:0-0:...|      1|36.2081024| -86.7681696|      Sonic Drive-In|      37207|          10|  1.5|   TN|\n",
      "+--------------------+--------------------+--------------------+--------------------+--------------+--------------------+-------+----------+------------+--------------------+-----------+------------+-----+-----+\n",
      "only showing top 10 rows\n",
      "\n"
     ]
    }
   ],
   "source": [
    "tbl_business.show(10,True)"
   ]
  },
  {
   "cell_type": "code",
   "execution_count": 17,
   "id": "1c21ab5c",
   "metadata": {},
   "outputs": [
    {
     "name": "stderr",
     "output_type": "stream",
     "text": [
      "                                                                                \r"
     ]
    },
    {
     "data": {
      "text/plain": [
       "(150346, 150346)"
      ]
     },
     "execution_count": 17,
     "metadata": {},
     "output_type": "execute_result"
    }
   ],
   "source": [
    "tbl_business.count(), tbl_business.distinct().count()"
   ]
  },
  {
   "cell_type": "code",
   "execution_count": 15,
   "id": "74b1e4c8",
   "metadata": {},
   "outputs": [
    {
     "data": {
      "text/plain": [
       "['address',\n",
       " 'attributes',\n",
       " 'business_id',\n",
       " 'categories',\n",
       " 'city',\n",
       " 'hours',\n",
       " 'is_open',\n",
       " 'latitude',\n",
       " 'longitude',\n",
       " 'name',\n",
       " 'postal_code',\n",
       " 'review_count',\n",
       " 'stars',\n",
       " 'state']"
      ]
     },
     "execution_count": 15,
     "metadata": {},
     "output_type": "execute_result"
    }
   ],
   "source": [
    "tbl_business.columns"
   ]
  },
  {
   "cell_type": "code",
   "execution_count": 21,
   "id": "ff5ab3e7",
   "metadata": {},
   "outputs": [],
   "source": [
    "tbl_business_cleaned = tbl_business\n",
    "for i in tbl_business.columns:\n",
    "    tbl_business_cleaned = tbl_business_cleaned.filter(F.col(i).isNotNull())"
   ]
  },
  {
   "cell_type": "code",
   "execution_count": 22,
   "id": "fb1eeae7",
   "metadata": {},
   "outputs": [
    {
     "name": "stderr",
     "output_type": "stream",
     "text": [
      "                                                                                \r"
     ]
    },
    {
     "data": {
      "text/plain": [
       "117618"
      ]
     },
     "execution_count": 22,
     "metadata": {},
     "output_type": "execute_result"
    }
   ],
   "source": [
    "tbl_business_cleaned.count()"
   ]
  },
  {
   "cell_type": "code",
   "execution_count": 26,
   "id": "583c9d32",
   "metadata": {},
   "outputs": [
    {
     "name": "stdout",
     "output_type": "stream",
     "text": [
      "+-------+----------+-----------+----------+----+-----+-------+--------+---------+----+-----------+------------+-----+-----+\n",
      "|address|attributes|business_id|categories|city|hours|is_open|latitude|longitude|name|postal_code|review_count|stars|state|\n",
      "+-------+----------+-----------+----------+----+-----+-------+--------+---------+----+-----------+------------+-----+-----+\n",
      "|      0|         0|          0|         0|   0|    0|      0|       0|        0|   0|          0|           0|    0|    0|\n",
      "+-------+----------+-----------+----------+----+-----+-------+--------+---------+----+-----------+------------+-----+-----+\n",
      "\n"
     ]
    },
    {
     "name": "stderr",
     "output_type": "stream",
     "text": [
      "                                                                                \r"
     ]
    }
   ],
   "source": [
    "tbl_business_cleaned.select([F.sum(F.col(c).isNull().cast(\"int\")).alias(c) for c in tbl_business.columns]).show()"
   ]
  },
  {
   "cell_type": "code",
   "execution_count": 70,
   "id": "9f27ec2d",
   "metadata": {},
   "outputs": [
    {
     "name": "stderr",
     "output_type": "stream",
     "text": [
      "ivysettings.xml file not found in HIVE_HOME or HIVE_CONF_DIR,/etc/hive/conf.dist/ivysettings.xml will be used\n",
      "23/03/12 19:47:42 WARN org.apache.hadoop.hive.ql.session.SessionState: METASTORE_FILTER_HOOK will be ignored, since hive.security.authorization.manager is set to instance of HiveAuthorizerFactory.\n"
     ]
    }
   ],
   "source": [
    "# save to hive\n",
    "tbl_business_cleaned.write.mode('overwrite') \\\n",
    "    .saveAsTable(\"yelp.business\")"
   ]
  },
  {
   "cell_type": "markdown",
   "id": "aaff95b9",
   "metadata": {},
   "source": [
    "# 2.process the checking dataset"
   ]
  },
  {
   "cell_type": "code",
   "execution_count": 1,
   "id": "4ddbbfa1",
   "metadata": {},
   "outputs": [
    {
     "name": "stderr",
     "output_type": "stream",
     "text": [
      "                                                                                \r"
     ]
    }
   ],
   "source": [
    "tbl_checkin = spark.read.option(\"header\",True).json(\"/user/pytrick/yelp_data/yelp_academic_dataset_checkin.json\")"
   ]
  },
  {
   "cell_type": "code",
   "execution_count": 7,
   "id": "3bba3b2d",
   "metadata": {},
   "outputs": [],
   "source": [
    "tbl_checkin_cleaned = clean_null(tbl_checkin)"
   ]
  },
  {
   "cell_type": "raw",
   "id": "70871342-69eb-474c-9cd0-b6c422b81010",
   "metadata": {},
   "source": [
    "tbl_checkin.count(), tbl_checkin_cleaned.count()"
   ]
  },
  {
   "cell_type": "code",
   "execution_count": 8,
   "id": "dd1ec9dc",
   "metadata": {},
   "outputs": [
    {
     "name": "stdout",
     "output_type": "stream",
     "text": [
      "+--------------------+--------------------+\n",
      "|         business_id|                date|\n",
      "+--------------------+--------------------+\n",
      "|---kPU91CF4Lq2-Wl...|2020-03-13 21:10:...|\n",
      "|--0iUa4sNDFiZFrAd...|2010-09-13 21:43:...|\n",
      "|--30_8IhuyMHbSOcN...|2013-06-14 23:29:...|\n",
      "|--7PUidqRWpRSpXeb...|2011-02-15 17:12:...|\n",
      "|--7jw19RH9JKXgFoh...|2014-04-21 20:42:...|\n",
      "|--8IbOsAAxjKRoYsB...|2015-06-06 01:03:...|\n",
      "|--9osgUCSDUWUkoTL...|2015-06-13 02:00:...|\n",
      "|--ARBQr1WMsTWiwOK...|2014-12-12 00:44:...|\n",
      "|--FWWsIwxRwuw9vIM...|2010-09-11 16:28:...|\n",
      "|--FcbSxK1AoEtEAxO...|2017-08-18 19:43:...|\n",
      "+--------------------+--------------------+\n",
      "only showing top 10 rows\n",
      "\n"
     ]
    }
   ],
   "source": [
    "tbl_checkin_cleaned.show(10,True)"
   ]
  },
  {
   "cell_type": "code",
   "execution_count": 59,
   "id": "7ac2042d",
   "metadata": {},
   "outputs": [
    {
     "name": "stdout",
     "output_type": "stream",
     "text": [
      "root\n",
      " |-- business_id: string (nullable = true)\n",
      " |-- date: string (nullable = true)\n",
      " |-- date_c: timestamp (nullable = true)\n",
      "\n"
     ]
    }
   ],
   "source": [
    "tbl_checkin_cleaned.printSchema()"
   ]
  },
  {
   "cell_type": "code",
   "execution_count": 63,
   "id": "6116690c",
   "metadata": {},
   "outputs": [],
   "source": [
    "spark.conf.set(\"spark.sql.legacy.timeParserPolicy\",\"LEGACY\")"
   ]
  },
  {
   "cell_type": "code",
   "execution_count": 66,
   "id": "696e511a",
   "metadata": {},
   "outputs": [],
   "source": [
    "tbl_checkin_cleaned = tbl_checkin_cleaned.withColumn(\"datetime\",F.to_timestamp(F.col('date'),'yyyy-MM-dd HH:mm:ss'))"
   ]
  },
  {
   "cell_type": "code",
   "execution_count": 67,
   "id": "d0fae847",
   "metadata": {},
   "outputs": [
    {
     "name": "stdout",
     "output_type": "stream",
     "text": [
      "+--------------------+--------------------+-------------------+-------------------+\n",
      "|         business_id|                date|             date_c|           datetime|\n",
      "+--------------------+--------------------+-------------------+-------------------+\n",
      "|---kPU91CF4Lq2-Wl...|2020-03-13 21:10:...|2020-03-13 21:10:56|2020-03-13 21:10:56|\n",
      "|--0iUa4sNDFiZFrAd...|2010-09-13 21:43:...|2010-09-13 21:43:09|2010-09-13 21:43:09|\n",
      "|--30_8IhuyMHbSOcN...|2013-06-14 23:29:...|2013-06-14 23:29:17|2013-06-14 23:29:17|\n",
      "|--7PUidqRWpRSpXeb...|2011-02-15 17:12:...|2011-02-15 17:12:00|2011-02-15 17:12:00|\n",
      "|--7jw19RH9JKXgFoh...|2014-04-21 20:42:...|2014-04-21 20:42:11|2014-04-21 20:42:11|\n",
      "|--8IbOsAAxjKRoYsB...|2015-06-06 01:03:...|2015-06-06 01:03:19|2015-06-06 01:03:19|\n",
      "|--9osgUCSDUWUkoTL...|2015-06-13 02:00:...|2015-06-13 02:00:57|2015-06-13 02:00:57|\n",
      "|--ARBQr1WMsTWiwOK...|2014-12-12 00:44:...|2014-12-12 00:44:23|2014-12-12 00:44:23|\n",
      "|--FWWsIwxRwuw9vIM...|2010-09-11 16:28:...|2010-09-11 16:28:39|2010-09-11 16:28:39|\n",
      "|--FcbSxK1AoEtEAxO...|2017-08-18 19:43:...|2017-08-18 19:43:50|2017-08-18 19:43:50|\n",
      "+--------------------+--------------------+-------------------+-------------------+\n",
      "only showing top 10 rows\n",
      "\n"
     ]
    }
   ],
   "source": [
    "tbl_checkin_cleaned.show(10,True)"
   ]
  },
  {
   "cell_type": "code",
   "execution_count": 72,
   "id": "d3edd018",
   "metadata": {},
   "outputs": [
    {
     "name": "stderr",
     "output_type": "stream",
     "text": [
      "                                                                                \r"
     ]
    }
   ],
   "source": [
    "# write to hive\n",
    "tbl_checkin_cleaned.select(\"business_id\",'datetime','date').write.mode('overwrite') \\\n",
    "    .saveAsTable(\"yelp.checkin\")"
   ]
  },
  {
   "cell_type": "code",
   "execution_count": 74,
   "id": "403447a9",
   "metadata": {},
   "outputs": [
    {
     "name": "stdout",
     "output_type": "stream",
     "text": [
      "root\n",
      " |-- business_id: string (nullable = true)\n",
      " |-- datetime: timestamp (nullable = true)\n",
      " |-- date: string (nullable = true)\n",
      "\n"
     ]
    }
   ],
   "source": [
    "df = spark.read.table(\"yelp.checkin\")\n",
    "df.printSchema()"
   ]
  },
  {
   "cell_type": "markdown",
   "id": "374bedc4",
   "metadata": {},
   "source": [
    "# 3.process the review dataset, this table contains the checking time of the customer for specific business_id"
   ]
  },
  {
   "cell_type": "code",
   "execution_count": 76,
   "id": "51d5003d",
   "metadata": {},
   "outputs": [
    {
     "name": "stderr",
     "output_type": "stream",
     "text": [
      "                                                                                \r"
     ]
    }
   ],
   "source": [
    "tbl_review = spark.read.option(\"header\",True).json(\"/user/pytrick/yelp_data/yelp_academic_dataset_review.json\")"
   ]
  },
  {
   "cell_type": "code",
   "execution_count": 77,
   "id": "19ba28ce",
   "metadata": {},
   "outputs": [],
   "source": [
    "tbl_review_cleaned  = clean_null(tbl_review)"
   ]
  },
  {
   "cell_type": "code",
   "execution_count": 78,
   "id": "a66c60e0",
   "metadata": {},
   "outputs": [
    {
     "name": "stderr",
     "output_type": "stream",
     "text": [
      "                                                                                \r"
     ]
    },
    {
     "data": {
      "text/plain": [
       "(6990280, 6990280)"
      ]
     },
     "execution_count": 78,
     "metadata": {},
     "output_type": "execute_result"
    }
   ],
   "source": [
    "tbl_review_cleaned.count(), tbl_review.count()"
   ]
  },
  {
   "cell_type": "code",
   "execution_count": 79,
   "id": "7e354b3c",
   "metadata": {},
   "outputs": [
    {
     "name": "stdout",
     "output_type": "stream",
     "text": [
      "+--------------------+----+-------------------+-----+--------------------+-----+--------------------+------+--------------------+\n",
      "|         business_id|cool|               date|funny|           review_id|stars|                text|useful|             user_id|\n",
      "+--------------------+----+-------------------+-----+--------------------+-----+--------------------+------+--------------------+\n",
      "|XQfwVwDr-v0ZS3_Cb...|   0|2018-07-07 22:09:11|    0|KU_O5udG6zpxOg-Vc...|  3.0|If you decide to ...|     0|mh_-eMZ6K5RLWhZyI...|\n",
      "|7ATYjTIgM3jUlt4UM...|   1|2012-01-03 15:28:18|    0|BiTunyQ73aT9WBnpR...|  5.0|I've taken a lot ...|     1|OyoGAe7OKpv6SyGZT...|\n",
      "|YjUWPpI6HXG530lwP...|   0|2014-02-05 20:30:30|    0|saUsX_uimxRlCVr67...|  3.0|Family diner. Had...|     0|8g_iMtfSiwikVnbP2...|\n",
      "|kxX2SOes4o-D3ZQBk...|   1|2015-01-04 00:01:03|    0|AqPFMleE6RsU23_au...|  5.0|Wow!  Yummy, diff...|     1|_7bHUi9Uuf5__HHc_...|\n",
      "|e4Vwtrqf-wpJfwesg...|   1|2017-01-14 20:54:15|    0|Sx8TMOWLNuJBWer-0...|  4.0|Cute interior and...|     1|bcjbaE6dDog4jkNY9...|\n",
      "|04UD14gamNjLY0IDY...|   1|2015-09-23 23:10:31|    2|JrIxlS1TzJ-iCu79u...|  1.0|I am a long term ...|     1|eUta8W_HdHMXPzLBB...|\n",
      "|gmjsEdUsKpj9Xxu6p...|   0|2015-01-03 23:21:18|    2|6AxgBCNX_PNTOxmbR...|  5.0|Loved this tour! ...|     0|r3zeYsv1XFBRA4dJp...|\n",
      "|LHSTtnW3YHCeUkRDG...|   0|2015-08-07 02:29:16|    0|_ZeMknuYdlQcUqng_...|  5.0|Amazingly amazing...|     2|yfFzsLmaWF2d4Sr0U...|\n",
      "|B5XSoSG3SfvQGtKEG...|   0|2016-03-30 22:46:33|    1|ZKvDG2sBvHVdF5oBN...|  3.0|This easter inste...|     1|wSTuiTk-sKNdcFypr...|\n",
      "|gebiRewfieSdtt17P...|   0|2016-07-25 07:31:06|    0|pUycOfUwM8vqX7KjR...|  3.0|Had a party of 6 ...|     0|59MxRhNVhU9MYndMk...|\n",
      "+--------------------+----+-------------------+-----+--------------------+-----+--------------------+------+--------------------+\n",
      "only showing top 10 rows\n",
      "\n"
     ]
    }
   ],
   "source": [
    "tbl_review_cleaned.show(10)"
   ]
  },
  {
   "cell_type": "code",
   "execution_count": 81,
   "id": "c751710f",
   "metadata": {},
   "outputs": [
    {
     "name": "stderr",
     "output_type": "stream",
     "text": [
      "                                                                                \r"
     ]
    }
   ],
   "source": [
    "tbl_review_cleaned.write.mode('overwrite') \\\n",
    "    .saveAsTable(\"yelp.review\")"
   ]
  },
  {
   "cell_type": "markdown",
   "id": "26210031",
   "metadata": {},
   "source": [
    "# 4 Tip"
   ]
  },
  {
   "cell_type": "code",
   "execution_count": 83,
   "id": "bca9f0d0",
   "metadata": {},
   "outputs": [
    {
     "name": "stderr",
     "output_type": "stream",
     "text": [
      "                                                                                \r"
     ]
    }
   ],
   "source": [
    "tbl_tip = spark.read.option(\"header\",True).json(\"/user/pytrick/yelp_data/yelp_academic_dataset_tip.json\")\n"
   ]
  },
  {
   "cell_type": "code",
   "execution_count": 84,
   "id": "4bd36dba",
   "metadata": {},
   "outputs": [],
   "source": [
    "tbl_tip_cleaned = clean_null(tbl_tip)"
   ]
  },
  {
   "cell_type": "code",
   "execution_count": 85,
   "id": "1644e9eb",
   "metadata": {},
   "outputs": [
    {
     "name": "stderr",
     "output_type": "stream",
     "text": [
      "                                                                                \r"
     ]
    }
   ],
   "source": [
    "tbl_tip_cleaned.write.mode('overwrite') \\\n",
    "    .saveAsTable(\"yelp.tip\")"
   ]
  },
  {
   "cell_type": "markdown",
   "id": "67e04ce4",
   "metadata": {},
   "source": [
    "# 5 user "
   ]
  },
  {
   "cell_type": "code",
   "execution_count": 87,
   "id": "4bf64a8e",
   "metadata": {},
   "outputs": [
    {
     "name": "stderr",
     "output_type": "stream",
     "text": [
      "                                                                                \r"
     ]
    }
   ],
   "source": [
    "tbl_user = spark.read.option(\"header\",True).json(\"/user/pytrick/yelp_data/yelp_academic_dataset_user.json\")"
   ]
  },
  {
   "cell_type": "code",
   "execution_count": 88,
   "id": "7646d9f2",
   "metadata": {},
   "outputs": [],
   "source": [
    "tbl_user_cleaned = clean_null(tbl_user)"
   ]
  },
  {
   "cell_type": "code",
   "execution_count": 91,
   "id": "d07454ae",
   "metadata": {},
   "outputs": [
    {
     "name": "stderr",
     "output_type": "stream",
     "text": [
      "                                                                                \r"
     ]
    }
   ],
   "source": [
    "tbl_user_cleaned.write.mode('overwrite') \\\n",
    "    .saveAsTable(\"yelp.user\")"
   ]
  },
  {
   "cell_type": "code",
   "execution_count": 92,
   "id": "a837f0e3",
   "metadata": {},
   "outputs": [
    {
     "name": "stdout",
     "output_type": "stream",
     "text": [
      "root\n",
      " |-- average_stars: double (nullable = true)\n",
      " |-- compliment_cool: long (nullable = true)\n",
      " |-- compliment_cute: long (nullable = true)\n",
      " |-- compliment_funny: long (nullable = true)\n",
      " |-- compliment_hot: long (nullable = true)\n",
      " |-- compliment_list: long (nullable = true)\n",
      " |-- compliment_more: long (nullable = true)\n",
      " |-- compliment_note: long (nullable = true)\n",
      " |-- compliment_photos: long (nullable = true)\n",
      " |-- compliment_plain: long (nullable = true)\n",
      " |-- compliment_profile: long (nullable = true)\n",
      " |-- compliment_writer: long (nullable = true)\n",
      " |-- cool: long (nullable = true)\n",
      " |-- elite: string (nullable = true)\n",
      " |-- fans: long (nullable = true)\n",
      " |-- friends: string (nullable = true)\n",
      " |-- funny: long (nullable = true)\n",
      " |-- name: string (nullable = true)\n",
      " |-- review_count: long (nullable = true)\n",
      " |-- useful: long (nullable = true)\n",
      " |-- user_id: string (nullable = true)\n",
      " |-- yelping_since: string (nullable = true)\n",
      "\n"
     ]
    }
   ],
   "source": [
    "df = spark.read.table(\"yelp.user\")\n",
    "df.printSchema()"
   ]
  },
  {
   "cell_type": "code",
   "execution_count": 93,
   "id": "36bbb988",
   "metadata": {},
   "outputs": [
    {
     "name": "stdout",
     "output_type": "stream",
     "text": [
      "+-------------+---------------+---------------+----------------+--------------+---------------+---------------+---------------+-----------------+----------------+------------------+-----------------+----+---------------+----+--------------------+-----+--------------+------------+------+--------------------+-------------------+\n",
      "|average_stars|compliment_cool|compliment_cute|compliment_funny|compliment_hot|compliment_list|compliment_more|compliment_note|compliment_photos|compliment_plain|compliment_profile|compliment_writer|cool|          elite|fans|             friends|funny|          name|review_count|useful|             user_id|      yelping_since|\n",
      "+-------------+---------------+---------------+----------------+--------------+---------------+---------------+---------------+-----------------+----------------+------------------+-----------------+----+---------------+----+--------------------+-----+--------------+------------+------+--------------------+-------------------+\n",
      "|         4.73|              1|              0|               1|             0|              0|              0|              0|                0|               0|                 0|                0|   1|               |   1|5-r8vdBoqMoHdHsAM...|    3|          Adam|          15|     5|kERcdSEyDPbczsFrH...|2016-07-03 16:48:45|\n",
      "|         4.06|              6|              0|               6|             1|              0|              0|              0|                0|               2|                 0|                0|  21|     20,20,2021|   2|Ke9QZmiYy41WIIphE...|    9|        Albert|          92|    63|kdF05ql0bquraoqcT...|2011-10-03 23:56:41|\n",
      "|          5.0|              0|              0|               0|             0|              0|              0|              0|                0|               0|                 0|                0|   0|               |   0|E74krWIR4M8-ARb1d...|    0|           Jim|           3|     3|Cvonl-MoX85Y7TyBA...|2011-06-07 23:21:24|\n",
      "|         4.64|             14|              0|              14|             0|              0|              0|              3|                0|               5|                 0|                0|  23|     20,20,2021|   2|fN6yGf17ZVHh6vMgL...|    9|         Aditi|          73|    36|04ZoQVzOSLkSmnFYj...|2013-07-08 21:35:12|\n",
      "|          3.6|              7|              0|               7|             0|              0|              2|              1|                0|               4|                 0|                1|  51|               |   5|Ve0LUwcrzxL7w0RYg...|   63|          John|         144|   165|MK-qfzJNlq9xC6pc5...|2007-09-06 04:32:29|\n",
      "|          3.9|              1|              0|               1|             1|              0|              2|              3|                0|               2|                 0|                0|  49|               |   3|ev_mrEIDJauxugj1r...|   34|           Art|          69|   148|a8N6B7DvjvuQHRgve...|2008-10-12 18:02:38|\n",
      "|         4.69|              0|              0|               0|             0|              0|              0|              1|                0|               1|                 0|                0|   8|               |   0|PdNOVb1ZXbPsvmUcW...|    2|         Chuck|          12|     8|weWZ-0PSjKxewfGxd...|2011-10-31 19:01:01|\n",
      "|          3.0|              0|              0|               0|             0|              0|              0|              0|                0|               0|                 0|                0|   0|               |   0|OlDJgnu-bzNPVAk7U...|    0|          Matt|           2|     1|lCIxwxi7QGycSxkrD...|2012-05-13 05:58:22|\n",
      "|         3.66|              2|              0|               2|             0|              0|              0|              0|                0|               0|                 1|                2|  43|               |  20|W3v_nc3r2oYH5x4s5...|    7|Teele Kimberly|          27|   113|bHbKPGbSppOBB3nAN...|2010-12-29 21:51:54|\n",
      "|         4.33|              9|              0|               9|             2|              0|              8|              7|                0|               2|                 0|                9|  72|2019,20,20,2021|   5|6DGl4hIz0rlP82T5K...|   47|      Kathleen|         112|   124|0KuR1ceCQ5xdvYZrH...|2015-06-27 22:41:33|\n",
      "+-------------+---------------+---------------+----------------+--------------+---------------+---------------+---------------+-----------------+----------------+------------------+-----------------+----+---------------+----+--------------------+-----+--------------+------------+------+--------------------+-------------------+\n",
      "only showing top 10 rows\n",
      "\n"
     ]
    },
    {
     "name": "stderr",
     "output_type": "stream",
     "text": [
      "                                                                                \r"
     ]
    }
   ],
   "source": [
    "df.show(10)"
   ]
  },
  {
   "cell_type": "code",
   "execution_count": null,
   "id": "d702502a",
   "metadata": {},
   "outputs": [],
   "source": []
  }
 ],
 "metadata": {
  "kernelspec": {
   "display_name": "PySpark",
   "language": "python",
   "name": "pyspark"
  },
  "language_info": {
   "codemirror_mode": {
    "name": "ipython",
    "version": 3
   },
   "file_extension": ".py",
   "mimetype": "text/x-python",
   "name": "python",
   "nbconvert_exporter": "python",
   "pygments_lexer": "ipython3",
   "version": "3.8.15"
  }
 },
 "nbformat": 4,
 "nbformat_minor": 5
}
